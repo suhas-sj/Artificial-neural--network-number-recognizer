{
  "nbformat": 4,
  "nbformat_minor": 0,
  "metadata": {
    "colab": {
      "provenance": [],
      "authorship_tag": "ABX9TyMXED4oxmkL9J/w+kqzZEHy",
      "include_colab_link": true
    },
    "kernelspec": {
      "name": "python3",
      "display_name": "Python 3"
    },
    "language_info": {
      "name": "python"
    }
  },
  "cells": [
    {
      "cell_type": "markdown",
      "metadata": {
        "id": "view-in-github",
        "colab_type": "text"
      },
      "source": [
        "<a href=\"https://colab.research.google.com/github/suhas-sj/Artificial-neural--network-number-recognizer/blob/main/Train.ipynb\" target=\"_parent\"><img src=\"https://colab.research.google.com/assets/colab-badge.svg\" alt=\"Open In Colab\"/></a>"
      ]
    },
    {
      "cell_type": "code",
      "execution_count": null,
      "metadata": {
        "id": "HHsJdluKBOtj"
      },
      "outputs": [],
      "source": [
        "import sys\n",
        "import numpy as np\n",
        "import matplotlib as plt\n"
      ]
    },
    {
      "cell_type": "code",
      "source": [
        "print(sys.version)\n",
        "print(np.__version__)\n",
        "print(plt.__version__)\n"
      ],
      "metadata": {
        "colab": {
          "base_uri": "https://localhost:8080/"
        },
        "id": "ZR-fA_p2B_jA",
        "outputId": "c01897e4-0843-4c41-81e5-521b2506f9ca"
      },
      "execution_count": null,
      "outputs": [
        {
          "output_type": "stream",
          "name": "stdout",
          "text": [
            "3.10.12 (main, Nov 20 2023, 15:14:05) [GCC 11.4.0]\n",
            "1.25.2\n",
            "3.7.1\n"
          ]
        }
      ]
    },
    {
      "cell_type": "code",
      "source": [
        " inputs=[1,2,3,2.5]\n",
        " weights=[[1,2,3,4],[1,2,3,4],[1,2,3,4]]\n",
        " biases=[2,3,0.5]\n",
        " output=[]\n",
        " for weight , bias in zip(weights,biases):\n",
        "  neuron_output=0\n",
        "  for w , i in zip(weight, inputs):\n",
        "    neuron_output += w*i\n",
        "  neuron_output+=bias\n",
        "  output.append(neuron_output)\n",
        "print(output)"
      ],
      "metadata": {
        "colab": {
          "base_uri": "https://localhost:8080/"
        },
        "id": "R7vb6_PdY37o",
        "outputId": "ce9a89e2-564d-40ba-ef2c-ab32c2951764"
      },
      "execution_count": null,
      "outputs": [
        {
          "output_type": "stream",
          "name": "stdout",
          "text": [
            "[26.0, 27.0, 24.5]\n"
          ]
        }
      ]
    },
    {
      "cell_type": "code",
      "source": [
        "input=[1,2,3,4]\n",
        "weight=[1,2,3,4]\n",
        "output= np.dot(input,weight)\n",
        "print(output)"
      ],
      "metadata": {
        "colab": {
          "base_uri": "https://localhost:8080/"
        },
        "id": "iZWxLAuM4qkx",
        "outputId": "c2c9bc85-d49c-4ea7-ae08-2a4ba546390e"
      },
      "execution_count": null,
      "outputs": [
        {
          "output_type": "stream",
          "name": "stdout",
          "text": [
            "30\n"
          ]
        }
      ]
    },
    {
      "cell_type": "code",
      "source": [
        " #08-03-2024\n",
        " inputs=[[1,2,3,2.5],[1,2,3,4],[2,3,4,5]]\n",
        "\n",
        " weights=[[1,2,3,4],\n",
        "          [1,2,3,4],\n",
        "          [1,2,3,4]]\n",
        "\n",
        " biases=[2,3,0.5]\n",
        "\n",
        " weights2=[[1,2,3],\n",
        "          [1,2,3],\n",
        "          [1,2,3]]\n",
        "\n",
        " biases2=[2,3,0.5]\n",
        "\n",
        " output1=np.dot(inputs,np.array(weights).T)+biases\n",
        "\n",
        " output2=np.dot(output1,np.array(weights2).T)+biases2\n",
        "\n",
        " print(output2)"
      ],
      "metadata": {
        "colab": {
          "base_uri": "https://localhost:8080/"
        },
        "id": "6W1fKaBniwSo",
        "outputId": "6c104650-5458-4134-d17f-88b7583d4616"
      },
      "execution_count": null,
      "outputs": [
        {
          "output_type": "stream",
          "name": "stdout",
          "text": [
            "[[155.5 156.5 154. ]\n",
            " [191.5 192.5 190. ]\n",
            " [251.5 252.5 250. ]]\n"
          ]
        }
      ]
    },
    {
      "cell_type": "code",
      "source": [
        "np.random.seed(0)\n",
        "\n",
        "X = [[1,2,3,2.5],\n",
        "     [2.0,5.0,-1.0,2.0],\n",
        "     [-1.5,2.7,3.3,-0.8]]\n",
        "\n",
        "class Layer_dense:\n",
        "  def __init__(self,n_inputs,n_neurons):\n",
        "    self.weights = 0.10*np.random.randn(n_inputs,n_neurons)\n",
        "    self.biases = np.zeros((1,n_neurons))\n",
        "  def forward(self,inputs):\n",
        "    self.output = np.dot(inputs,self.weights) + self.biases\n",
        "#print(np.random.randn(4,3))\n",
        "\n",
        "class Activation_reLU:\n",
        "  def forward(self,inputs):\n",
        "    self.output =\n",
        "\n",
        "layer1 = Layer_dense(4,5)\n",
        "layer2 = Layer_dense(5,2)\n",
        "\n",
        "layer1.forward(X)\n",
        "#print(layer1.output)\n",
        "layer2.forward(layer1.output)\n",
        "print(layer2.output)\n",
        "\n"
      ],
      "metadata": {
        "id": "qAvDD4rLjysO",
        "colab": {
          "base_uri": "https://localhost:8080/"
        },
        "outputId": "bf167083-fdb3-4b6e-a797-3c184feb91ad"
      },
      "execution_count": null,
      "outputs": [
        {
          "output_type": "stream",
          "name": "stdout",
          "text": [
            "[[ 0.148296   -0.08397602]\n",
            " [ 0.14100315 -0.01340469]\n",
            " [ 0.20124979 -0.07290616]]\n"
          ]
        }
      ]
    },
    {
      "cell_type": "code",
      "source": [],
      "metadata": {
        "id": "wSWKjTehHOn0"
      },
      "execution_count": null,
      "outputs": []
    }
  ]
}