{
  "nbformat": 4,
  "nbformat_minor": 0,
  "metadata": {
    "colab": {
      "provenance": [],
      "authorship_tag": "ABX9TyPtNUIYnKddchRJL39m9x5B",
      "include_colab_link": true
    },
    "kernelspec": {
      "name": "python3",
      "display_name": "Python 3"
    },
    "language_info": {
      "name": "python"
    }
  },
  "cells": [
    {
      "cell_type": "markdown",
      "metadata": {
        "id": "view-in-github",
        "colab_type": "text"
      },
      "source": [
        "<a href=\"https://colab.research.google.com/github/suhas-sj/Artificial-neural--network-number-recognizer/blob/main/Train.ipynb\" target=\"_parent\"><img src=\"https://colab.research.google.com/assets/colab-badge.svg\" alt=\"Open In Colab\"/></a>"
      ]
    },
    {
      "cell_type": "code",
      "execution_count": 6,
      "metadata": {
        "id": "HHsJdluKBOtj"
      },
      "outputs": [],
      "source": [
        "import sys\n",
        "import numpy as np\n",
        "import matplotlib as plt\n",
        "import nnfs\n"
      ]
    },
    {
      "cell_type": "code",
      "source": [
        "print(sys.version)\n",
        "print(np.__version__)\n",
        "print(plt.__version__)\n"
      ],
      "metadata": {
        "colab": {
          "base_uri": "https://localhost:8080/"
        },
        "id": "ZR-fA_p2B_jA",
        "outputId": "c01897e4-0843-4c41-81e5-521b2506f9ca"
      },
      "execution_count": null,
      "outputs": [
        {
          "output_type": "stream",
          "name": "stdout",
          "text": [
            "3.10.12 (main, Nov 20 2023, 15:14:05) [GCC 11.4.0]\n",
            "1.25.2\n",
            "3.7.1\n"
          ]
        }
      ]
    },
    {
      "cell_type": "code",
      "source": [
        " inputs=[1,2,3,2.5]\n",
        " weights=[[1,2,3,4],[1,2,3,4],[1,2,3,4]]\n",
        " biases=[2,3,0.5]\n",
        " output=[]\n",
        " for weight , bias in zip(weights,biases):\n",
        "  neuron_output=0\n",
        "  for w , i in zip(weight, inputs):\n",
        "    neuron_output += w*i\n",
        "  neuron_output+=bias\n",
        "  output.append(neuron_output)\n",
        "print(output)"
      ],
      "metadata": {
        "colab": {
          "base_uri": "https://localhost:8080/"
        },
        "id": "R7vb6_PdY37o",
        "outputId": "ce9a89e2-564d-40ba-ef2c-ab32c2951764"
      },
      "execution_count": null,
      "outputs": [
        {
          "output_type": "stream",
          "name": "stdout",
          "text": [
            "[26.0, 27.0, 24.5]\n"
          ]
        }
      ]
    },
    {
      "cell_type": "code",
      "source": [
        "input=[1,2,3,4]\n",
        "weight=[1,2,3,4]\n",
        "output= np.dot(input,weight)\n",
        "print(output)"
      ],
      "metadata": {
        "colab": {
          "base_uri": "https://localhost:8080/"
        },
        "id": "iZWxLAuM4qkx",
        "outputId": "c2c9bc85-d49c-4ea7-ae08-2a4ba546390e"
      },
      "execution_count": null,
      "outputs": [
        {
          "output_type": "stream",
          "name": "stdout",
          "text": [
            "30\n"
          ]
        }
      ]
    },
    {
      "cell_type": "code",
      "source": [
        "def create_data(points,classes):\n",
        "  X = np.zeros((points*classes,2))\n",
        "  y = np.zeros(points*classes, dtype='unit8')\n",
        "  for class_number in range(classes):\n",
        "    ix = range(points*class_number,points*(class_number+1))\n",
        "    r = np.linspace(0.0,1,points) #radius\n",
        "    t = np.linspace(class_number*4,(class_number+1)*4,points)+np.random.randn(points)*0.2\n",
        "    X[ix] = np.c_[r*np.sin(t*2.5),r*np.cos(t*2.5)]\n",
        "    y[ix] = class_number\n",
        "  return X,y\n",
        "\n",
        "X,y = create_data(100,3)"
      ],
      "metadata": {
        "colab": {
          "base_uri": "https://localhost:8080/",
          "height": 297
        },
        "id": "yWOuikrkN95j",
        "outputId": "0e82d28c-ca9e-4019-d019-7c8fc388ab83"
      },
      "execution_count": 8,
      "outputs": [
        {
          "output_type": "error",
          "ename": "TypeError",
          "evalue": "data type 'unit8' not understood",
          "traceback": [
            "\u001b[0;31m---------------------------------------------------------------------------\u001b[0m",
            "\u001b[0;31mTypeError\u001b[0m                                 Traceback (most recent call last)",
            "\u001b[0;32m<ipython-input-8-346ecd3c960e>\u001b[0m in \u001b[0;36m<cell line: 12>\u001b[0;34m()\u001b[0m\n\u001b[1;32m     10\u001b[0m   \u001b[0;32mreturn\u001b[0m \u001b[0mX\u001b[0m\u001b[0;34m,\u001b[0m\u001b[0my\u001b[0m\u001b[0;34m\u001b[0m\u001b[0;34m\u001b[0m\u001b[0m\n\u001b[1;32m     11\u001b[0m \u001b[0;34m\u001b[0m\u001b[0m\n\u001b[0;32m---> 12\u001b[0;31m \u001b[0mX\u001b[0m\u001b[0;34m,\u001b[0m\u001b[0my\u001b[0m \u001b[0;34m=\u001b[0m \u001b[0mcreate_data\u001b[0m\u001b[0;34m(\u001b[0m\u001b[0;36m100\u001b[0m\u001b[0;34m,\u001b[0m\u001b[0;36m3\u001b[0m\u001b[0;34m)\u001b[0m\u001b[0;34m\u001b[0m\u001b[0;34m\u001b[0m\u001b[0m\n\u001b[0m",
            "\u001b[0;32m<ipython-input-8-346ecd3c960e>\u001b[0m in \u001b[0;36mcreate_data\u001b[0;34m(points, classes)\u001b[0m\n\u001b[1;32m      1\u001b[0m \u001b[0;32mdef\u001b[0m \u001b[0mcreate_data\u001b[0m\u001b[0;34m(\u001b[0m\u001b[0mpoints\u001b[0m\u001b[0;34m,\u001b[0m\u001b[0mclasses\u001b[0m\u001b[0;34m)\u001b[0m\u001b[0;34m:\u001b[0m\u001b[0;34m\u001b[0m\u001b[0;34m\u001b[0m\u001b[0m\n\u001b[1;32m      2\u001b[0m   \u001b[0mX\u001b[0m \u001b[0;34m=\u001b[0m \u001b[0mnp\u001b[0m\u001b[0;34m.\u001b[0m\u001b[0mzeros\u001b[0m\u001b[0;34m(\u001b[0m\u001b[0;34m(\u001b[0m\u001b[0mpoints\u001b[0m\u001b[0;34m*\u001b[0m\u001b[0mclasses\u001b[0m\u001b[0;34m,\u001b[0m\u001b[0;36m2\u001b[0m\u001b[0;34m)\u001b[0m\u001b[0;34m)\u001b[0m\u001b[0;34m\u001b[0m\u001b[0;34m\u001b[0m\u001b[0m\n\u001b[0;32m----> 3\u001b[0;31m   \u001b[0my\u001b[0m \u001b[0;34m=\u001b[0m \u001b[0mnp\u001b[0m\u001b[0;34m.\u001b[0m\u001b[0mzeros\u001b[0m\u001b[0;34m(\u001b[0m\u001b[0mpoints\u001b[0m\u001b[0;34m*\u001b[0m\u001b[0mclasses\u001b[0m\u001b[0;34m,\u001b[0m \u001b[0mdtype\u001b[0m\u001b[0;34m=\u001b[0m\u001b[0;34m'unit8'\u001b[0m\u001b[0;34m)\u001b[0m\u001b[0;34m\u001b[0m\u001b[0;34m\u001b[0m\u001b[0m\n\u001b[0m\u001b[1;32m      4\u001b[0m   \u001b[0;32mfor\u001b[0m \u001b[0mclass_number\u001b[0m \u001b[0;32min\u001b[0m \u001b[0mrange\u001b[0m\u001b[0;34m(\u001b[0m\u001b[0mclasses\u001b[0m\u001b[0;34m)\u001b[0m\u001b[0;34m:\u001b[0m\u001b[0;34m\u001b[0m\u001b[0;34m\u001b[0m\u001b[0m\n\u001b[1;32m      5\u001b[0m     \u001b[0mix\u001b[0m \u001b[0;34m=\u001b[0m \u001b[0mrange\u001b[0m\u001b[0;34m(\u001b[0m\u001b[0mpoints\u001b[0m\u001b[0;34m*\u001b[0m\u001b[0mclass_number\u001b[0m\u001b[0;34m,\u001b[0m\u001b[0mpoints\u001b[0m\u001b[0;34m*\u001b[0m\u001b[0;34m(\u001b[0m\u001b[0mclass_number\u001b[0m\u001b[0;34m+\u001b[0m\u001b[0;36m1\u001b[0m\u001b[0;34m)\u001b[0m\u001b[0;34m)\u001b[0m\u001b[0;34m\u001b[0m\u001b[0;34m\u001b[0m\u001b[0m\n",
            "\u001b[0;31mTypeError\u001b[0m: data type 'unit8' not understood"
          ]
        }
      ]
    },
    {
      "cell_type": "code",
      "source": [
        "nnfs.init()\n",
        "\n",
        "X = [[1,2,3,2.5],\n",
        "     [2.0,5.0,-1.0,2.0],\n",
        "     [-1.5,2.7,3.3,-0.8]]\n",
        "\n",
        "class Layer_dense:\n",
        "  def __init__(self,n_inputs,n_neurons):\n",
        "    self.weights = 0.10*np.random.randn(n_inputs,n_neurons)\n",
        "    self.biases = np.zeros((1,n_neurons))\n",
        "  def forward(self,inputs):\n",
        "    self.output = np.dot(inputs,self.weights) + self.biases\n",
        "#print(np.random.randn(4,3))\n",
        "\n",
        "class Activation_ReLU:\n",
        "  def forward(self,inputs):\n",
        "    self.output = np.maximum(0,inputs)\n",
        "\n",
        "layer1 = Layer_dense(4,5)\n",
        "layer2 = Layer_dense(5,2)\n",
        "\n",
        "layer1.forward(X)\n",
        "#print(layer1.output)\n",
        "layer2.forward(layer1.output)\n",
        "print(layer2.output)\n",
        "\n"
      ],
      "metadata": {
        "id": "qAvDD4rLjysO",
        "colab": {
          "base_uri": "https://localhost:8080/"
        },
        "outputId": "420d7b45-b3e5-4190-eb1b-2ab178e0473c"
      },
      "execution_count": 2,
      "outputs": [
        {
          "output_type": "stream",
          "name": "stdout",
          "text": [
            "[[ 0.148296   -0.08397602]\n",
            " [ 0.14100315 -0.01340469]\n",
            " [ 0.20124979 -0.07290616]]\n"
          ]
        }
      ]
    },
    {
      "cell_type": "code",
      "source": [
        " #08-03-2024\n",
        " inputs=[[1,2,3,2.5],[1,2,3,4],[2,3,4,5]]\n",
        "\n",
        " weights=[[1,2,3,4],\n",
        "          [1,2,3,4],\n",
        "          [1,2,3,4]]\n",
        "\n",
        " biases=[2,3,0.5]\n",
        "\n",
        " weights2=[[1,2,3],\n",
        "          [1,2,3],\n",
        "          [1,2,3]]\n",
        "\n",
        " biases2=[2,3,0.5]\n",
        "\n",
        " output1=np.dot(inputs,np.array(weights).T)+biases\n",
        "\n",
        " output2=np.dot(output1,np.array(weights2).T)+biases2\n",
        "\n",
        " print(output2)"
      ],
      "metadata": {
        "colab": {
          "base_uri": "https://localhost:8080/"
        },
        "id": "6W1fKaBniwSo",
        "outputId": "6c104650-5458-4134-d17f-88b7583d4616"
      },
      "execution_count": null,
      "outputs": [
        {
          "output_type": "stream",
          "name": "stdout",
          "text": [
            "[[155.5 156.5 154. ]\n",
            " [191.5 192.5 190. ]\n",
            " [251.5 252.5 250. ]]\n"
          ]
        }
      ]
    },
    {
      "cell_type": "code",
      "source": [],
      "metadata": {
        "id": "FWAaDjVJMyBi"
      },
      "execution_count": null,
      "outputs": []
    }
  ]
}